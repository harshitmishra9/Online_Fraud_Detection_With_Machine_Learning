{
 "cells": [
  {
   "cell_type": "markdown",
   "metadata": {},
   "source": [
    "# Import Dataset and Display the column names"
   ]
  },
  {
   "cell_type": "code",
   "execution_count": 1,
   "metadata": {},
   "outputs": [
    {
     "name": "stdout",
     "output_type": "stream",
     "text": [
      "Index(['step', 'amount', 'nameOrig', 'oldbalanceOrg', 'newbalanceOrig',\n",
      "       'nameDest', 'oldbalanceDest', 'newbalanceDest', 'isFraud',\n",
      "       'isFlaggedFraud', 'type_CASH_IN', 'type_CASH_OUT', 'type_DEBIT',\n",
      "       'type_PAYMENT', 'type_TRANSFER'],\n",
      "      dtype='object')\n"
     ]
    }
   ],
   "source": [
    "import pandas as pd\n",
    "\n",
    "# Load the dataset\n",
    "data = pd.read_csv(r\"C:\\Users\\HP\\OneDrive\\Desktop\\Preprocessed_Online_Payment_Data.csv\")\n",
    "\n",
    "# Display the column names\n",
    "print(data.columns)\n"
   ]
  },
  {
   "cell_type": "markdown",
   "metadata": {},
   "source": [
    "# Drop the 'isFraud' column and Save the modified dataset"
   ]
  },
  {
   "cell_type": "code",
   "execution_count": 2,
   "metadata": {},
   "outputs": [
    {
     "name": "stdout",
     "output_type": "stream",
     "text": [
      "File saved successfully.\n"
     ]
    }
   ],
   "source": [
    "import pandas as pd\n",
    "\n",
    "# Load the dataset\n",
    "data = pd.read_csv(r'C:\\Users\\HP\\OneDrive\\Desktop\\Preprocessed_Online_Payment_Data.csv')\n",
    "\n",
    "# Drop the 'isFraud' column\n",
    "data = data.drop(columns=['isFraud'])\n",
    "\n",
    "# Save the modified dataset\n",
    "data.to_csv(r'C:\\Users\\HP\\OneDrive\\Desktop\\Infosys_Springboard_data.csv', index=False)\n",
    "print(\"File saved successfully.\")\n"
   ]
  },
  {
   "cell_type": "markdown",
   "metadata": {},
   "source": [
    "# Load the modified dataset and inspect the data"
   ]
  },
  {
   "cell_type": "code",
   "execution_count": 3,
   "metadata": {},
   "outputs": [
    {
     "name": "stdout",
     "output_type": "stream",
     "text": [
      "<class 'pandas.core.frame.DataFrame'>\n",
      "RangeIndex: 16426 entries, 0 to 16425\n",
      "Data columns (total 14 columns):\n",
      " #   Column          Non-Null Count  Dtype  \n",
      "---  ------          --------------  -----  \n",
      " 0   step            16426 non-null  float64\n",
      " 1   amount          16426 non-null  float64\n",
      " 2   nameOrig        16426 non-null  object \n",
      " 3   oldbalanceOrg   16426 non-null  float64\n",
      " 4   newbalanceOrig  16426 non-null  float64\n",
      " 5   nameDest        16426 non-null  object \n",
      " 6   oldbalanceDest  16426 non-null  float64\n",
      " 7   newbalanceDest  16426 non-null  float64\n",
      " 8   isFlaggedFraud  16426 non-null  int64  \n",
      " 9   type_CASH_IN    16426 non-null  bool   \n",
      " 10  type_CASH_OUT   16426 non-null  bool   \n",
      " 11  type_DEBIT      16426 non-null  bool   \n",
      " 12  type_PAYMENT    16426 non-null  bool   \n",
      " 13  type_TRANSFER   16426 non-null  bool   \n",
      "dtypes: bool(5), float64(6), int64(1), object(2)\n",
      "memory usage: 1.2+ MB\n"
     ]
    },
    {
     "data": {
      "text/plain": [
       "(       step    amount     nameOrig  oldbalanceOrg  newbalanceOrig  \\\n",
       " 0  0.533693  0.002432   C658247527       0.018398        0.023652   \n",
       " 1  0.336927  0.000401  C1812418129       0.005692        0.006586   \n",
       " 2  0.002695  0.000727  C1247938090       0.000384        0.000000   \n",
       " 3  0.854447  0.005805  C1687063682       0.003067        0.000000   \n",
       " 4  0.210243  0.150521   C751624512       0.079521        0.000000   \n",
       " \n",
       "       nameDest  oldbalanceDest  newbalanceDest  isFlaggedFraud  type_CASH_IN  \\\n",
       " 0   C492670573         0.00935        0.009007               0          True   \n",
       " 1  M1924423059         0.00000        0.000000               0         False   \n",
       " 2  C1002031672         0.00000        0.000000               0         False   \n",
       " 3   C451391923         0.00000        0.000000               0         False   \n",
       " 4   C320991755         0.00000        0.020016               0         False   \n",
       " \n",
       "    type_CASH_OUT  type_DEBIT  type_PAYMENT  type_TRANSFER  \n",
       " 0          False       False         False          False  \n",
       " 1          False       False          True          False  \n",
       " 2          False       False         False           True  \n",
       " 3          False       False         False           True  \n",
       " 4           True       False         False          False  ,\n",
       " None)"
      ]
     },
     "execution_count": 3,
     "metadata": {},
     "output_type": "execute_result"
    }
   ],
   "source": [
    "import pandas as pd\n",
    "\n",
    "# Load the CSV file to inspect its structure and contents\n",
    "file_path = r\"C:\\Users\\HP\\OneDrive\\Desktop\\Infosys_Springboard_data.csv\"\n",
    "data = pd.read_csv(file_path)\n",
    "\n",
    "# Display the first few rows and general information about the dataset\n",
    "data.head(), data.info()\n"
   ]
  },
  {
   "cell_type": "markdown",
   "metadata": {},
   "source": [
    "# predict the fraud status for each row in the full dataset by Preprocess the data by cleaning and preparing features and Train a machine learning model to classify transactions as \"fraud\" or \"not fraud.\"\n"
   ]
  },
  {
   "cell_type": "code",
   "execution_count": 4,
   "metadata": {},
   "outputs": [
    {
     "data": {
      "text/plain": [
       "'              precision    recall  f1-score   support\\n\\n           0       1.00      1.00      1.00      3282\\n           1       1.00      0.50      0.67         4\\n\\n    accuracy                           1.00      3286\\n   macro avg       1.00      0.75      0.83      3286\\nweighted avg       1.00      1.00      1.00      3286\\n'"
      ]
     },
     "execution_count": 4,
     "metadata": {},
     "output_type": "execute_result"
    }
   ],
   "source": [
    "from sklearn.model_selection import train_test_split\n",
    "from sklearn.ensemble import RandomForestClassifier\n",
    "from sklearn.metrics import classification_report\n",
    "\n",
    "# Select features and target\n",
    "X = data.drop(columns=['nameOrig', 'nameDest', 'isFlaggedFraud'])  # Drop unnecessary columns\n",
    "y = data['isFlaggedFraud']  # Target variable\n",
    "\n",
    "# Split data into training and testing sets\n",
    "X_train, X_test, y_train, y_test = train_test_split(X, y, test_size=0.2, random_state=42)\n",
    "\n",
    "# Train a RandomForestClassifier model\n",
    "model = RandomForestClassifier(random_state=42)\n",
    "model.fit(X_train, y_train)\n",
    "\n",
    "# Predict on the test set\n",
    "y_pred = model.predict(X_test)\n",
    "\n",
    "# Display the classification report\n",
    "classification_report_output = classification_report(y_test, y_pred)\n",
    "classification_report_output\n"
   ]
  },
  {
   "cell_type": "markdown",
   "metadata": {},
   "source": [
    "# predict fraud for each row (\"The fraud prediction model has added a new column, isFraudPrediction, to indicate whether each transaction is predicted as fraud (1) or not fraud (0))"
   ]
  },
  {
   "cell_type": "code",
   "execution_count": 5,
   "metadata": {},
   "outputs": [
    {
     "data": {
      "text/html": [
       "<div>\n",
       "<style scoped>\n",
       "    .dataframe tbody tr th:only-of-type {\n",
       "        vertical-align: middle;\n",
       "    }\n",
       "\n",
       "    .dataframe tbody tr th {\n",
       "        vertical-align: top;\n",
       "    }\n",
       "\n",
       "    .dataframe thead th {\n",
       "        text-align: right;\n",
       "    }\n",
       "</style>\n",
       "<table border=\"1\" class=\"dataframe\">\n",
       "  <thead>\n",
       "    <tr style=\"text-align: right;\">\n",
       "      <th></th>\n",
       "      <th>amount</th>\n",
       "      <th>oldbalanceOrg</th>\n",
       "      <th>newbalanceOrig</th>\n",
       "      <th>oldbalanceDest</th>\n",
       "      <th>newbalanceDest</th>\n",
       "      <th>isFlaggedFraud</th>\n",
       "      <th>isFraudPrediction</th>\n",
       "    </tr>\n",
       "  </thead>\n",
       "  <tbody>\n",
       "    <tr>\n",
       "      <th>0</th>\n",
       "      <td>0.002432</td>\n",
       "      <td>0.018398</td>\n",
       "      <td>0.023652</td>\n",
       "      <td>0.00935</td>\n",
       "      <td>0.009007</td>\n",
       "      <td>0</td>\n",
       "      <td>0</td>\n",
       "    </tr>\n",
       "    <tr>\n",
       "      <th>1</th>\n",
       "      <td>0.000401</td>\n",
       "      <td>0.005692</td>\n",
       "      <td>0.006586</td>\n",
       "      <td>0.00000</td>\n",
       "      <td>0.000000</td>\n",
       "      <td>0</td>\n",
       "      <td>0</td>\n",
       "    </tr>\n",
       "    <tr>\n",
       "      <th>2</th>\n",
       "      <td>0.000727</td>\n",
       "      <td>0.000384</td>\n",
       "      <td>0.000000</td>\n",
       "      <td>0.00000</td>\n",
       "      <td>0.000000</td>\n",
       "      <td>0</td>\n",
       "      <td>0</td>\n",
       "    </tr>\n",
       "    <tr>\n",
       "      <th>3</th>\n",
       "      <td>0.005805</td>\n",
       "      <td>0.003067</td>\n",
       "      <td>0.000000</td>\n",
       "      <td>0.00000</td>\n",
       "      <td>0.000000</td>\n",
       "      <td>0</td>\n",
       "      <td>0</td>\n",
       "    </tr>\n",
       "    <tr>\n",
       "      <th>4</th>\n",
       "      <td>0.150521</td>\n",
       "      <td>0.079521</td>\n",
       "      <td>0.000000</td>\n",
       "      <td>0.00000</td>\n",
       "      <td>0.020016</td>\n",
       "      <td>0</td>\n",
       "      <td>0</td>\n",
       "    </tr>\n",
       "  </tbody>\n",
       "</table>\n",
       "</div>"
      ],
      "text/plain": [
       "     amount  oldbalanceOrg  newbalanceOrig  oldbalanceDest  newbalanceDest  \\\n",
       "0  0.002432       0.018398        0.023652         0.00935        0.009007   \n",
       "1  0.000401       0.005692        0.006586         0.00000        0.000000   \n",
       "2  0.000727       0.000384        0.000000         0.00000        0.000000   \n",
       "3  0.005805       0.003067        0.000000         0.00000        0.000000   \n",
       "4  0.150521       0.079521        0.000000         0.00000        0.020016   \n",
       "\n",
       "   isFlaggedFraud  isFraudPrediction  \n",
       "0               0                  0  \n",
       "1               0                  0  \n",
       "2               0                  0  \n",
       "3               0                  0  \n",
       "4               0                  0  "
      ]
     },
     "execution_count": 5,
     "metadata": {},
     "output_type": "execute_result"
    }
   ],
   "source": [
    "# Predict fraud status for each row in the dataset\n",
    "data['isFraudPrediction'] = model.predict(X)\n",
    "\n",
    "# Display the first few rows of the dataset with the predictions\n",
    "data[['amount', 'oldbalanceOrg', 'newbalanceOrig', 'oldbalanceDest', 'newbalanceDest', 'isFlaggedFraud', 'isFraudPrediction']].head()\n"
   ]
  },
  {
   "cell_type": "markdown",
   "metadata": {},
   "source": [
    "# Save the new predicted dataset"
   ]
  },
  {
   "cell_type": "code",
   "execution_count": 6,
   "metadata": {},
   "outputs": [],
   "source": [
    "# Save the dataset with predictions to a new CSV file\n",
    "output_file_path = 'Predicted_Infosys_data.csv'\n",
    "data.to_csv(output_file_path, index=False)\n"
   ]
  },
  {
   "cell_type": "code",
   "execution_count": 7,
   "metadata": {},
   "outputs": [
    {
     "name": "stderr",
     "output_type": "stream",
     "text": [
      "C:\\Users\\HP\\AppData\\Roaming\\Python\\Python310\\site-packages\\keras\\src\\saving\\saving_lib.py:719: UserWarning: Skipping variable loading for optimizer 'rmsprop', because it has 8 variables whereas the saved optimizer has 2 variables. \n",
      "  saveable.load_own_variables(weights_store.get(inner_path))\n",
      "2024-11-11 22:50:36.043 WARNING streamlit.runtime.scriptrunner_utils.script_run_context: Thread 'MainThread': missing ScriptRunContext! This warning can be ignored when running in bare mode.\n",
      "2024-11-11 22:50:36.043 WARNING streamlit.runtime.scriptrunner_utils.script_run_context: Thread 'MainThread': missing ScriptRunContext! This warning can be ignored when running in bare mode.\n",
      "2024-11-11 22:50:36.743 \n",
      "  \u001b[33m\u001b[1mWarning:\u001b[0m to view this Streamlit app on a browser, run it with the following\n",
      "  command:\n",
      "\n",
      "    streamlit run C:\\Users\\HP\\AppData\\Roaming\\Python\\Python310\\site-packages\\ipykernel_launcher.py [ARGUMENTS]\n",
      "2024-11-11 22:50:36.759 Thread 'MainThread': missing ScriptRunContext! This warning can be ignored when running in bare mode.\n",
      "2024-11-11 22:50:36.759 Thread 'MainThread': missing ScriptRunContext! This warning can be ignored when running in bare mode.\n",
      "2024-11-11 22:50:36.759 Thread 'MainThread': missing ScriptRunContext! This warning can be ignored when running in bare mode.\n",
      "2024-11-11 22:50:36.759 Thread 'MainThread': missing ScriptRunContext! This warning can be ignored when running in bare mode.\n",
      "2024-11-11 22:50:36.763 Thread 'MainThread': missing ScriptRunContext! This warning can be ignored when running in bare mode.\n",
      "2024-11-11 22:50:36.764 Session state does not function when running a script without `streamlit run`\n",
      "2024-11-11 22:50:36.764 Thread 'MainThread': missing ScriptRunContext! This warning can be ignored when running in bare mode.\n",
      "2024-11-11 22:50:36.764 Thread 'MainThread': missing ScriptRunContext! This warning can be ignored when running in bare mode.\n",
      "2024-11-11 22:50:36.764 Thread 'MainThread': missing ScriptRunContext! This warning can be ignored when running in bare mode.\n",
      "2024-11-11 22:50:36.766 Thread 'MainThread': missing ScriptRunContext! This warning can be ignored when running in bare mode.\n",
      "2024-11-11 22:50:36.767 Thread 'MainThread': missing ScriptRunContext! This warning can be ignored when running in bare mode.\n",
      "2024-11-11 22:50:36.768 Thread 'MainThread': missing ScriptRunContext! This warning can be ignored when running in bare mode.\n",
      "2024-11-11 22:50:36.768 Thread 'MainThread': missing ScriptRunContext! This warning can be ignored when running in bare mode.\n",
      "2024-11-11 22:50:36.769 Thread 'MainThread': missing ScriptRunContext! This warning can be ignored when running in bare mode.\n"
     ]
    }
   ],
   "source": [
    "import streamlit as st\n",
    "import pandas as pd\n",
    "from tensorflow.keras.models import load_model\n",
    "\n",
    "# Load the trained Keras model\n",
    "model = load_model(r'C:\\\\Users\\\\HP\\\\OneDrive\\\\Desktop\\\\fraud_detection_model.keras')\n",
    "\n",
    "# Set up the Streamlit app\n",
    "st.set_page_config(page_title=\"Fraud Detection System\", layout=\"wide\")\n",
    "\n",
    "# Home Page\n",
    "def home_page():\n",
    "    st.title(\"Welcome to the Fraud Detection System\")\n",
    "    st.write(\"\"\"\n",
    "    This application helps detect potentially fraudulent transactions using a trained machine learning model.\n",
    "    Use the sidebar to navigate between different sections of the app.\n",
    "    \"\"\")\n",
    "\n",
    "# Single Transaction Page\n",
    "def single_transaction_page():\n",
    "    st.title(\"Single Transaction Prediction\")\n",
    "\n",
    "    # Input fields for simplified transaction features\n",
    "    amount = st.number_input(\"Amount\", min_value=0.0, step=0.01)\n",
    "    oldbalanceOrg = st.number_input(\"Old Balance (Origin)\", min_value=0.0, step=0.01)\n",
    "    newbalanceOrig = st.number_input(\"New Balance (Origin)\", min_value=0.0, step=0.01)\n",
    "\n",
    "    # Dropdown for transaction type\n",
    "    type_ = st.selectbox(\"Transaction Type\", [\"CASH_IN\", \"CASH_OUT\", \"DEBIT\", \"PAYMENT\", \"TRANSFER\"])\n",
    "    type_encoded = [0, 0, 0, 0, 0]\n",
    "    type_mapping = {\"CASH_IN\": 0, \"CASH_OUT\": 1, \"DEBIT\": 2, \"PAYMENT\": 3, \"TRANSFER\": 4}\n",
    "    type_encoded[type_mapping[type_]] = 1\n",
    "\n",
    "    # Assemble the features in the expected order for the model, filling in placeholders for missing fields\n",
    "    input_data = [0, amount, oldbalanceOrg, newbalanceOrig, 0, 0, 0, 0] + type_encoded\n",
    "\n",
    "    # Convert to DataFrame for model input\n",
    "    input_data_df = pd.DataFrame([input_data])\n",
    "\n",
    "    # Predict button\n",
    "    if st.button(\"Predict Fraud\"):\n",
    "        prediction = model.predict(input_data_df)[0][0]\n",
    "        prediction_label = \"Fraudulent Transaction Detected!\" if prediction > 0.5 else \"Transaction is NOT Fraudulent.\"\n",
    "        st.write(prediction_label)\n",
    "\n",
    "        # Option to save and download prediction result\n",
    "        download_df = pd.DataFrame([input_data + [int(prediction > 0.5)]], columns=[\n",
    "            'step', 'amount', 'oldbalanceOrg', 'newbalanceOrig', 'oldbalanceDest', 'newbalanceDest', \n",
    "            'isFraud', 'isFlaggedFraud', 'type_CASH_IN', 'type_CASH_OUT', 'type_DEBIT', 'type_PAYMENT', \n",
    "            'type_TRANSFER', 'prediction'\n",
    "        ])\n",
    "        st.download_button(\n",
    "            label=\"Download Prediction Result\",\n",
    "            data=download_df.to_csv(index=False),\n",
    "            file_name=\"transaction_prediction.csv\",\n",
    "            mime=\"text/csv\"\n",
    "        )\n",
    "\n",
    "# Bulk Transaction Page\n",
    "def bulk_transaction_page():\n",
    "    st.title(\"Bulk Transaction Prediction\")\n",
    "    st.write(\"Upload a CSV file containing transaction data for batch fraud detection.\")\n",
    "    \n",
    "    # File upload for bulk transactions\n",
    "    uploaded_file = st.file_uploader(\"Choose a CSV file\", type=\"csv\")\n",
    "    \n",
    "    if uploaded_file:\n",
    "        bulk_data = pd.read_csv(uploaded_file)\n",
    "        st.write(\"Uploaded data preview:\", bulk_data.head())\n",
    "\n",
    "        # Add batch processing functionality\n",
    "        if st.button(\"Predict Fraud for All Transactions\"):\n",
    "            predictions = model.predict(bulk_data)\n",
    "            bulk_data['Prediction'] = (predictions > 0.5).astype(int)\n",
    "            st.write(\"Prediction Results:\", bulk_data)\n",
    "\n",
    "# Transaction History Page\n",
    "def transaction_history_page():\n",
    "    st.title(\"Transaction History\")\n",
    "    st.write(\"Display the transaction history here.\")\n",
    "    # Implement logic to load and display previous transaction predictions, if saved\n",
    "\n",
    "# About Page\n",
    "def about_page():\n",
    "    st.title(\"About This Application\")\n",
    "    st.write(\"\"\"\n",
    "    This fraud detection system uses machine learning to help identify potentially fraudulent transactions.\n",
    "    \"\"\")\n",
    "\n",
    "# Sidebar for navigation\n",
    "st.sidebar.title(\"Navigation\")\n",
    "page = st.sidebar.radio(\"Choose a page\", [\"Home\", \"Single Transaction\", \"Bulk Transaction\", \"Transaction History\", \"About\"])\n",
    "\n",
    "# Page selection logic\n",
    "if page == \"Home\":\n",
    "    home_page()\n",
    "elif page == \"Single Transaction\":\n",
    "    single_transaction_page()\n",
    "elif page == \"Bulk Transaction\":\n",
    "    bulk_transaction_page()\n",
    "elif page == \"Transaction History\":\n",
    "    transaction_history_page()\n",
    "elif page == \"About\":\n",
    "    about_page()\n"
   ]
  }
 ],
 "metadata": {
  "kernelspec": {
   "display_name": "Python 3",
   "language": "python",
   "name": "python3"
  },
  "language_info": {
   "codemirror_mode": {
    "name": "ipython",
    "version": 3
   },
   "file_extension": ".py",
   "mimetype": "text/x-python",
   "name": "python",
   "nbconvert_exporter": "python",
   "pygments_lexer": "ipython3",
   "version": "3.10.9"
  }
 },
 "nbformat": 4,
 "nbformat_minor": 2
}
